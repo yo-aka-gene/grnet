{
 "cells": [
  {
   "cell_type": "markdown",
   "id": "4bd7d1bc-b118-4b48-91f0-f464d7fef6b7",
   "metadata": {
    "tags": []
   },
   "source": [
    "# GRN formation"
   ]
  },
  {
   "cell_type": "code",
   "execution_count": 1,
   "id": "b6dddc03-664a-49c6-abdf-efde4121dc74",
   "metadata": {},
   "outputs": [],
   "source": [
    "from grnet.clusters import CellClasses\n",
    "from grnet.models import PC, PretrainedModel\n",
    "from grnet.plot import grnplot\n",
    "from grnet.toydata import load_dataset, load_metadata\n",
    "import matplotlib.pyplot as plt"
   ]
  },
  {
   "cell_type": "markdown",
   "id": "ffba1514-f3e7-4a56-89df-36c3f9bfacdc",
   "metadata": {},
   "source": [
    "## data loading"
   ]
  },
  {
   "cell_type": "code",
   "execution_count": 2,
   "id": "efa27eaa-2070-4516-b672-71a3d4a53ead",
   "metadata": {},
   "outputs": [],
   "source": [
    "data = load_dataset(\"prototype1\")\n",
    "meta = load_metadata(\"prototype1\")\n",
    "\n",
    "lst_data = [\n",
    "    data.loc[meta.cluster == v, :].iloc[:, :5] for v in meta.cluster.unique()\n",
    "]"
   ]
  },
  {
   "cell_type": "markdown",
   "id": "fac8dabc-a5c1-4a46-88c5-f052af3b4d6a",
   "metadata": {},
   "source": [
    "## GRN formation with PC algorithm"
   ]
  },
  {
   "cell_type": "code",
   "execution_count": 3,
   "id": "ef87c159-6cd8-45b8-8ed5-076429426a00",
   "metadata": {},
   "outputs": [],
   "source": [
    "models = [PC(v) for v in lst_data]\n",
    "\n",
    "for v in models:\n",
    "    v.estimate()"
   ]
  },
  {
   "cell_type": "markdown",
   "id": "733de36b-0a5e-42b8-8f15-af7ada17b99a",
   "metadata": {},
   "source": [
    "- edges are resturned as a list"
   ]
  },
  {
   "cell_type": "code",
   "execution_count": 4,
   "id": "27814511-b749-4a6f-a3ea-05e3b180a4c1",
   "metadata": {},
   "outputs": [
    {
     "data": {
      "text/plain": [
       "[('gene_2', 'gene_4')]"
      ]
     },
     "execution_count": 4,
     "metadata": {},
     "output_type": "execute_result"
    }
   ],
   "source": [
    "models[0].estimate()\n",
    "models[0].edges"
   ]
  },
  {
   "cell_type": "markdown",
   "id": "a5750569-78db-4038-88eb-a23cb2b09d21",
   "metadata": {},
   "source": [
    "- edge information can be represented as a GRN matrix"
   ]
  },
  {
   "cell_type": "code",
   "execution_count": 5,
   "id": "ef65da26-c076-44ee-bc99-3c79d7398610",
   "metadata": {},
   "outputs": [
    {
     "data": {
      "text/html": [
       "<div>\n",
       "<style scoped>\n",
       "    .dataframe tbody tr th:only-of-type {\n",
       "        vertical-align: middle;\n",
       "    }\n",
       "\n",
       "    .dataframe tbody tr th {\n",
       "        vertical-align: top;\n",
       "    }\n",
       "\n",
       "    .dataframe thead th {\n",
       "        text-align: right;\n",
       "    }\n",
       "</style>\n",
       "<table border=\"1\" class=\"dataframe\">\n",
       "  <thead>\n",
       "    <tr style=\"text-align: right;\">\n",
       "      <th></th>\n",
       "      <th>gene_1</th>\n",
       "      <th>gene_2</th>\n",
       "      <th>gene_3</th>\n",
       "      <th>gene_4</th>\n",
       "      <th>gene_5</th>\n",
       "    </tr>\n",
       "  </thead>\n",
       "  <tbody>\n",
       "    <tr>\n",
       "      <th>gene_1</th>\n",
       "      <td>1.0</td>\n",
       "      <td>0.0</td>\n",
       "      <td>0.0</td>\n",
       "      <td>0.0</td>\n",
       "      <td>0.0</td>\n",
       "    </tr>\n",
       "    <tr>\n",
       "      <th>gene_2</th>\n",
       "      <td>0.0</td>\n",
       "      <td>1.0</td>\n",
       "      <td>0.0</td>\n",
       "      <td>1.0</td>\n",
       "      <td>0.0</td>\n",
       "    </tr>\n",
       "    <tr>\n",
       "      <th>gene_3</th>\n",
       "      <td>0.0</td>\n",
       "      <td>0.0</td>\n",
       "      <td>1.0</td>\n",
       "      <td>0.0</td>\n",
       "      <td>0.0</td>\n",
       "    </tr>\n",
       "    <tr>\n",
       "      <th>gene_4</th>\n",
       "      <td>0.0</td>\n",
       "      <td>0.0</td>\n",
       "      <td>0.0</td>\n",
       "      <td>1.0</td>\n",
       "      <td>0.0</td>\n",
       "    </tr>\n",
       "    <tr>\n",
       "      <th>gene_5</th>\n",
       "      <td>0.0</td>\n",
       "      <td>0.0</td>\n",
       "      <td>0.0</td>\n",
       "      <td>0.0</td>\n",
       "      <td>1.0</td>\n",
       "    </tr>\n",
       "  </tbody>\n",
       "</table>\n",
       "</div>"
      ],
      "text/plain": [
       "        gene_1  gene_2  gene_3  gene_4  gene_5\n",
       "gene_1     1.0     0.0     0.0     0.0     0.0\n",
       "gene_2     0.0     1.0     0.0     1.0     0.0\n",
       "gene_3     0.0     0.0     1.0     0.0     0.0\n",
       "gene_4     0.0     0.0     0.0     1.0     0.0\n",
       "gene_5     0.0     0.0     0.0     0.0     1.0"
      ]
     },
     "execution_count": 5,
     "metadata": {},
     "output_type": "execute_result"
    }
   ],
   "source": [
    "models[0].get_matrix()"
   ]
  },
  {
   "cell_type": "markdown",
   "id": "a2bca829-87f0-4605-8c0e-2336727cb020",
   "metadata": {},
   "source": [
    "**Note**:\n",
    "GRN matrices should fulfill the requirements as follows;\n",
    "1. DxD matrix (where D: the number of genes, i.e., the number of columns)\n",
    "2. rows names and columns names coincide each other\n",
    "3. all elements are either 0 or 1\n",
    "4. all diagonal elements are 1\n",
    "5. if the GRN is an undirected graph, GRN matrix can be either upper/lower triangular"
   ]
  },
  {
   "cell_type": "markdown",
   "id": "b536ff30-f100-4d13-8562-df8a85b18eed",
   "metadata": {},
   "source": [
    "## Plotting GRN"
   ]
  },
  {
   "cell_type": "code",
   "execution_count": 6,
   "id": "eac8998f-01b6-457d-8ff5-6a9f4229c382",
   "metadata": {},
   "outputs": [
    {
     "data": {
      "image/png": "[encoded data removed]",
      "text/plain": [
       "<Figure size 400x400 with 1 Axes>"
      ]
     },
     "metadata": {},
     "output_type": "display_data"
    }
   ],
   "source": [
    "fig, ax = plt.subplots(figsize=(4, 4))\n",
    "\n",
    "grnplot(models[0], ax=ax)\n",
    "\n",
    "ax.set(title=\"cluster_1 (prototype1)\");"
   ]
  },
  {
   "cell_type": "markdown",
   "id": "95e12fb5-7d7b-4515-bc19-b90582fc5856",
   "metadata": {},
   "source": [
    "## Generate `Estimator` Class from GRN matrices"
   ]
  },
  {
   "cell_type": "markdown",
   "id": "b3e39e70-d4fb-40f2-ac3c-fec5fa7cf633",
   "metadata": {},
   "source": [
    "- use `PretrainedModel` class"
   ]
  },
  {
   "cell_type": "code",
   "execution_count": 7,
   "id": "dadbb4c3-544b-41b2-b739-776a67fbe736",
   "metadata": {},
   "outputs": [],
   "source": [
    "grn_mat = models[0].get_matrix()\n",
    "\n",
    "pre = PretrainedModel(grn_mat)"
   ]
  },
  {
   "cell_type": "markdown",
   "id": "dbda12cb-2543-48ca-bb96-3ecb507ba1f4",
   "metadata": {},
   "source": [
    "- you can access to edges/matrix"
   ]
  },
  {
   "cell_type": "code",
   "execution_count": 8,
   "id": "392b9c93-9784-417e-a37d-92416457c77c",
   "metadata": {},
   "outputs": [
    {
     "data": {
      "text/plain": [
       "[('gene_2', 'gene_4')]"
      ]
     },
     "execution_count": 8,
     "metadata": {},
     "output_type": "execute_result"
    }
   ],
   "source": [
    "pre.edges"
   ]
  },
  {
   "cell_type": "code",
   "execution_count": 9,
   "id": "c3dd44e0-b94b-42ac-9f8c-f351e238f8c5",
   "metadata": {},
   "outputs": [
    {
     "data": {
      "text/html": [
       "<div>\n",
       "<style scoped>\n",
       "    .dataframe tbody tr th:only-of-type {\n",
       "        vertical-align: middle;\n",
       "    }\n",
       "\n",
       "    .dataframe tbody tr th {\n",
       "        vertical-align: top;\n",
       "    }\n",
       "\n",
       "    .dataframe thead th {\n",
       "        text-align: right;\n",
       "    }\n",
       "</style>\n",
       "<table border=\"1\" class=\"dataframe\">\n",
       "  <thead>\n",
       "    <tr style=\"text-align: right;\">\n",
       "      <th></th>\n",
       "      <th>gene_1</th>\n",
       "      <th>gene_2</th>\n",
       "      <th>gene_3</th>\n",
       "      <th>gene_4</th>\n",
       "      <th>gene_5</th>\n",
       "    </tr>\n",
       "  </thead>\n",
       "  <tbody>\n",
       "    <tr>\n",
       "      <th>gene_1</th>\n",
       "      <td>1.0</td>\n",
       "      <td>0.0</td>\n",
       "      <td>0.0</td>\n",
       "      <td>0.0</td>\n",
       "      <td>0.0</td>\n",
       "    </tr>\n",
       "    <tr>\n",
       "      <th>gene_2</th>\n",
       "      <td>0.0</td>\n",
       "      <td>1.0</td>\n",
       "      <td>0.0</td>\n",
       "      <td>1.0</td>\n",
       "      <td>0.0</td>\n",
       "    </tr>\n",
       "    <tr>\n",
       "      <th>gene_3</th>\n",
       "      <td>0.0</td>\n",
       "      <td>0.0</td>\n",
       "      <td>1.0</td>\n",
       "      <td>0.0</td>\n",
       "      <td>0.0</td>\n",
       "    </tr>\n",
       "    <tr>\n",
       "      <th>gene_4</th>\n",
       "      <td>0.0</td>\n",
       "      <td>0.0</td>\n",
       "      <td>0.0</td>\n",
       "      <td>1.0</td>\n",
       "      <td>0.0</td>\n",
       "    </tr>\n",
       "    <tr>\n",
       "      <th>gene_5</th>\n",
       "      <td>0.0</td>\n",
       "      <td>0.0</td>\n",
       "      <td>0.0</td>\n",
       "      <td>0.0</td>\n",
       "      <td>1.0</td>\n",
       "    </tr>\n",
       "  </tbody>\n",
       "</table>\n",
       "</div>"
      ],
      "text/plain": [
       "        gene_1  gene_2  gene_3  gene_4  gene_5\n",
       "gene_1     1.0     0.0     0.0     0.0     0.0\n",
       "gene_2     0.0     1.0     0.0     1.0     0.0\n",
       "gene_3     0.0     0.0     1.0     0.0     0.0\n",
       "gene_4     0.0     0.0     0.0     1.0     0.0\n",
       "gene_5     0.0     0.0     0.0     0.0     1.0"
      ]
     },
     "execution_count": 9,
     "metadata": {},
     "output_type": "execute_result"
    }
   ],
   "source": [
    "pre.get_matrix()"
   ]
  },
  {
   "cell_type": "markdown",
   "id": "17c461dd-4f1b-4cdd-b8e8-bb931f2dd266",
   "metadata": {},
   "source": [
    "- for `self.data`, the GRN matrix will be returned"
   ]
  },
  {
   "cell_type": "code",
   "execution_count": 10,
   "id": "61b2e396-146a-416d-81e4-995f6ed2a6f8",
   "metadata": {},
   "outputs": [
    {
     "data": {
      "text/html": [
       "<div>\n",
       "<style scoped>\n",
       "    .dataframe tbody tr th:only-of-type {\n",
       "        vertical-align: middle;\n",
       "    }\n",
       "\n",
       "    .dataframe tbody tr th {\n",
       "        vertical-align: top;\n",
       "    }\n",
       "\n",
       "    .dataframe thead th {\n",
       "        text-align: right;\n",
       "    }\n",
       "</style>\n",
       "<table border=\"1\" class=\"dataframe\">\n",
       "  <thead>\n",
       "    <tr style=\"text-align: right;\">\n",
       "      <th></th>\n",
       "      <th>gene_1</th>\n",
       "      <th>gene_2</th>\n",
       "      <th>gene_3</th>\n",
       "      <th>gene_4</th>\n",
       "      <th>gene_5</th>\n",
       "    </tr>\n",
       "  </thead>\n",
       "  <tbody>\n",
       "    <tr>\n",
       "      <th>gene_1</th>\n",
       "      <td>True</td>\n",
       "      <td>True</td>\n",
       "      <td>True</td>\n",
       "      <td>True</td>\n",
       "      <td>True</td>\n",
       "    </tr>\n",
       "    <tr>\n",
       "      <th>gene_2</th>\n",
       "      <td>True</td>\n",
       "      <td>True</td>\n",
       "      <td>True</td>\n",
       "      <td>True</td>\n",
       "      <td>True</td>\n",
       "    </tr>\n",
       "    <tr>\n",
       "      <th>gene_3</th>\n",
       "      <td>True</td>\n",
       "      <td>True</td>\n",
       "      <td>True</td>\n",
       "      <td>True</td>\n",
       "      <td>True</td>\n",
       "    </tr>\n",
       "    <tr>\n",
       "      <th>gene_4</th>\n",
       "      <td>True</td>\n",
       "      <td>True</td>\n",
       "      <td>True</td>\n",
       "      <td>True</td>\n",
       "      <td>True</td>\n",
       "    </tr>\n",
       "    <tr>\n",
       "      <th>gene_5</th>\n",
       "      <td>True</td>\n",
       "      <td>True</td>\n",
       "      <td>True</td>\n",
       "      <td>True</td>\n",
       "      <td>True</td>\n",
       "    </tr>\n",
       "  </tbody>\n",
       "</table>\n",
       "</div>"
      ],
      "text/plain": [
       "        gene_1  gene_2  gene_3  gene_4  gene_5\n",
       "gene_1    True    True    True    True    True\n",
       "gene_2    True    True    True    True    True\n",
       "gene_3    True    True    True    True    True\n",
       "gene_4    True    True    True    True    True\n",
       "gene_5    True    True    True    True    True"
      ]
     },
     "execution_count": 10,
     "metadata": {},
     "output_type": "execute_result"
    }
   ],
   "source": [
    "pre.data == pre.get_matrix()"
   ]
  },
  {
   "cell_type": "markdown",
   "id": "63848043-0f75-4998-bec6-e337f259cad4",
   "metadata": {},
   "source": [
    "- `PretrainedModel` is also visualized by `grnplot` function"
   ]
  },
  {
   "cell_type": "code",
   "execution_count": 11,
   "id": "bdb5ef24-ee70-454e-b2b4-f62fb5c85c0d",
   "metadata": {},
   "outputs": [
    {
     "data": {
      "image/png": "[encoded data removed]",
      "text/plain": [
       "<Figure size 400x400 with 1 Axes>"
      ]
     },
     "metadata": {},
     "output_type": "display_data"
    }
   ],
   "source": [
    "fig, ax = plt.subplots(figsize=(4, 4))\n",
    "\n",
    "grnplot(pre, ax=ax, color=\"C1\")\n",
    "\n",
    "ax.set(title=\"cluster_1 (prototype1)\");"
   ]
  },
  {
   "cell_type": "markdown",
   "id": "c85adcaa-5cd7-436e-a6bf-540a7aba57a9",
   "metadata": {},
   "source": [
    "## Handle all clusters in the dataset with CellClasses"
   ]
  },
  {
   "cell_type": "markdown",
   "id": "eb7f1fc3-220d-4162-b715-004fee1a1a28",
   "metadata": {},
   "source": [
    "- estimate GRNs for all models before assign to `CellClasses`"
   ]
  },
  {
   "cell_type": "code",
   "execution_count": 12,
   "id": "59e90afc-ef06-4aaa-98dc-3b0baff64bc7",
   "metadata": {},
   "outputs": [],
   "source": [
    "dataset = CellClasses(\n",
    "    models=models,\n",
    "    names=[f\"cluster_{i + 1}\" for i in range(len(lst_data))],\n",
    "    colors=\"rainbow\"\n",
    ")"
   ]
  },
  {
   "cell_type": "markdown",
   "id": "ed51e7ce-6fcd-4e50-86db-0a48a2d074b5",
   "metadata": {},
   "source": [
    "- you can visualize them by assigning cluster names or cluster ids"
   ]
  },
  {
   "cell_type": "code",
   "execution_count": 13,
   "id": "1a668ad6-4088-4c68-b96f-8af6cd0b0289",
   "metadata": {},
   "outputs": [
    {
     "data": {
      "image/png": "[encoded data removed]",
      "text/plain": [
       "<Figure size 2000x400 with 5 Axes>"
      ]
     },
     "metadata": {},
     "output_type": "display_data"
    }
   ],
   "source": [
    "fig, ax = plt.subplots(1, 5, figsize=(20, 4))\n",
    "\n",
    "for i in range(5):\n",
    "    grnplot(dataset, ax=ax[i], id=f\"cluster_{i + 1}\")\n",
    "    ax[i].set(title=dataset.names[i])"
   ]
  }
 ],
 "metadata": {
  "kernelspec": {
   "display_name": "Python 3 (ipykernel)",
   "language": "python",
   "name": "python3"
  },
  "language_info": {
   "codemirror_mode": {
    "name": "ipython",
    "version": 3
   },
   "file_extension": ".py",
   "mimetype": "text/x-python",
   "name": "python",
   "nbconvert_exporter": "python",
   "pygments_lexer": "ipython3",
   "version": "3.10.8"
  }
 },
 "nbformat": 4,
 "nbformat_minor": 5
}
