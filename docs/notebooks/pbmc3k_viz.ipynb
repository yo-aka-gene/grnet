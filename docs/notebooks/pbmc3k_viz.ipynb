{
 "cells": [
  {
   "cell_type": "markdown",
   "id": "a3e20151-24ac-4d75-831c-74485f705575",
   "metadata": {
    "tags": []
   },
   "source": [
    "# PBMC3k dataset"
   ]
  },
  {
   "cell_type": "code",
   "execution_count": 1,
   "id": "b45b3cce-a3a9-415d-822a-56f587cbc4fc",
   "metadata": {},
   "outputs": [],
   "source": [
    "import os\n",
    "import subprocess\n",
    "\n",
    "whoami = subprocess.run(\"whoami\", stdout=subprocess.PIPE)\n",
    "if (b'jovyan' in whoami.stdout) & (not os.path.isfile(\"/home/jovyan/data/pbmc3k.h5ad\")):\n",
    "    !sh /home/jovyan/data/pbmc3k.sh"
   ]
  },
  {
   "cell_type": "code",
   "execution_count": 2,
   "id": "9be0634e-3e7d-4a07-8b9a-3992b6c05144",
   "metadata": {},
   "outputs": [],
   "source": [
    "from typing import NamedTuple\n",
    "import anndata as ad\n",
    "import scanpy as sc"
   ]
  },
  {
   "cell_type": "code",
   "execution_count": 3,
   "id": "7bae77d7-72b5-46f2-b84c-53be87456541",
   "metadata": {},
   "outputs": [],
   "source": [
    "class Config(NamedTuple):\n",
    "    data: ad.AnnData = sc.read_h5ad(\"/home/jovyan/data/pbmc3k.h5ad\")\n",
    "    export: str = \"/home/jovyan/output\"\n",
    "    \n",
    "conf = Config()"
   ]
  },
  {
   "cell_type": "code",
   "execution_count": 4,
   "id": "4c3f6982-216a-424b-ba93-9b68c01c00f5",
   "metadata": {},
   "outputs": [],
   "source": [
    "sc.pp.filter_cells(conf.data, min_genes=200)\n",
    "sc.pp.filter_genes(conf.data, min_cells=3)"
   ]
  },
  {
   "cell_type": "code",
   "execution_count": 5,
   "id": "a51d4e5a-bad5-4241-8cd5-c086dd41da2a",
   "metadata": {},
   "outputs": [
    {
     "data": {
      "text/plain": [
       "AnnData object with n_obs × n_vars = 2700 × 13714\n",
       "    obs: 'n_genes'\n",
       "    var: 'gene_ids', 'n_cells'"
      ]
     },
     "execution_count": 5,
     "metadata": {},
     "output_type": "execute_result"
    }
   ],
   "source": [
    "conf.data"
   ]
  },
  {
   "cell_type": "code",
   "execution_count": 6,
   "id": "3abad3d2-56db-4781-b047-121bdf9e368e",
   "metadata": {},
   "outputs": [],
   "source": [
    "import grnet"
   ]
  },
  {
   "cell_type": "code",
   "execution_count": 6,
   "id": "edda5a9f-ffd4-4a85-840e-654d3526682c",
   "metadata": {},
   "outputs": [],
   "source": [
    "import subprocess"
   ]
  },
  {
   "cell_type": "code",
   "execution_count": 13,
   "id": "0f3373cf-da4a-4379-b9f1-baae1c9df8f9",
   "metadata": {},
   "outputs": [],
   "source": [
    "hoge = subprocess.run(\"whoami\", stdout=subprocess.PIPE)"
   ]
  },
  {
   "cell_type": "code",
   "execution_count": 36,
   "id": "e0379c95-245f-4147-a2df-7416feb26116",
   "metadata": {},
   "outputs": [
    {
     "data": {
      "text/plain": [
       "True"
      ]
     },
     "execution_count": 36,
     "metadata": {},
     "output_type": "execute_result"
    }
   ],
   "source": [
    "hoge.stdout == b'jovyan\\n'"
   ]
  },
  {
   "cell_type": "code",
   "execution_count": 37,
   "id": "51fba8c2-13b3-4f6b-9db2-3b3b28d592ca",
   "metadata": {},
   "outputs": [
    {
     "data": {
      "text/plain": [
       "b'jovyan\\n'"
      ]
     },
     "execution_count": 37,
     "metadata": {},
     "output_type": "execute_result"
    }
   ],
   "source": [
    "hoge.stdout"
   ]
  },
  {
   "cell_type": "code",
   "execution_count": 39,
   "id": "e01f844d-7928-4713-9105-2e5781ea8fa9",
   "metadata": {},
   "outputs": [
    {
     "data": {
      "text/plain": [
       "True"
      ]
     },
     "execution_count": 39,
     "metadata": {},
     "output_type": "execute_result"
    }
   ],
   "source": [
    "b'jovyan' in b'jovyan\\n'"
   ]
  },
  {
   "cell_type": "code",
   "execution_count": null,
   "id": "d5a5cd56-0835-4f9b-9ee6-cfe2a339c085",
   "metadata": {},
   "outputs": [],
   "source": []
  }
 ],
 "metadata": {
  "kernelspec": {
   "display_name": "Python 3 (ipykernel)",
   "language": "python",
   "name": "python3"
  },
  "language_info": {
   "codemirror_mode": {
    "name": "ipython",
    "version": 3
   },
   "file_extension": ".py",
   "mimetype": "text/x-python",
   "name": "python",
   "nbconvert_exporter": "python",
   "pygments_lexer": "ipython3",
   "version": "3.10.8"
  }
 },
 "nbformat": 4,
 "nbformat_minor": 5
}
